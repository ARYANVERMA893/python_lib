{
 "cells": [
  {
   "cell_type": "code",
   "execution_count": 1,
   "id": "c3996ab0",
   "metadata": {},
   "outputs": [],
   "source": [
    "import pandas as pd"
   ]
  },
  {
   "cell_type": "code",
   "execution_count": 20,
   "id": "1707803c",
   "metadata": {},
   "outputs": [
    {
     "name": "stdout",
     "output_type": "stream",
     "text": [
      "               A  B\n",
      "my_index_name      \n",
      "0              7  8\n",
      "1              6  5\n"
     ]
    }
   ],
   "source": [
    "import pandas as pd\n",
    "\n",
    "df1 = pd.DataFrame({'A': [7, 6], 'B': [8, 5]})\n",
    "\n",
    "df1.index.name = 'my_index_name'  # giving name to index\n",
    "\n",
    "print(df1)\n",
    "\n",
    "\n",
    "# creating dataframe\n"
   ]
  },
  {
   "cell_type": "code",
   "execution_count": 11,
   "id": "67421d19",
   "metadata": {},
   "outputs": [
    {
     "name": "stdout",
     "output_type": "stream",
     "text": [
      "      A  B\n",
      "day1  7  8\n",
      "day2  6  5\n"
     ]
    }
   ],
   "source": [
    "import pandas as pd\n",
    "\n",
    "df1 = pd.DataFrame({'A': [7, 6], 'B': [8, 5]}, index=[\"day1\", \"day2\"])\n",
    "\n",
    "print(df1)\n"
   ]
  },
  {
   "cell_type": "code",
   "execution_count": 15,
   "id": "ebf52b1d",
   "metadata": {},
   "outputs": [
    {
     "name": "stdout",
     "output_type": "stream",
     "text": [
      " A  B\n",
      " 7  8\n",
      " 6  5\n"
     ]
    }
   ],
   "source": [
    "#removing index\n",
    "\n",
    "import pandas as pd\n",
    "\n",
    "df1 = pd.DataFrame({'A': [7, 6], 'B': [8, 5]})\n",
    "\n",
    "# Reset the index to the default integer index\n",
    "print(df1.to_string(index=False))\n",
    "\n"
   ]
  },
  {
   "cell_type": "markdown",
   "id": "4d62b101",
   "metadata": {},
   "source": [
    "# column alignment"
   ]
  },
  {
   "cell_type": "code",
   "execution_count": 18,
   "id": "9f39dc8e",
   "metadata": {},
   "outputs": [
    {
     "name": "stdout",
     "output_type": "stream",
     "text": [
      "                                        A                    B\n",
      "0                                       7                    8\n",
      "1                                       6                    5\n"
     ]
    }
   ],
   "source": [
    "df_string_custom = df1.to_string(col_space=20)\n",
    "print(df_string_custom)\n"
   ]
  },
  {
   "cell_type": "markdown",
   "id": "9c5e29e8",
   "metadata": {},
   "source": [
    "# append()"
   ]
  },
  {
   "cell_type": "code",
   "execution_count": 46,
   "id": "add4458c",
   "metadata": {},
   "outputs": [
    {
     "name": "stdout",
     "output_type": "stream",
     "text": [
      "     A  B\n",
      "0  1.0  t\n",
      "1  NaN  4\n",
      "2  5.0  7\n",
      "3  6.0  8\n"
     ]
    },
    {
     "name": "stderr",
     "output_type": "stream",
     "text": [
      "C:\\Users\\D\\AppData\\Local\\Temp\\ipykernel_2696\\2584699241.py:9: FutureWarning: The frame.append method is deprecated and will be removed from pandas in a future version. Use pandas.concat instead.\n",
      "  result = df1.append(df2, ignore_index=True)\n"
     ]
    },
    {
     "data": {
      "text/plain": [
       "A    3\n",
       "B    4\n",
       "dtype: int64"
      ]
     },
     "execution_count": 46,
     "metadata": {},
     "output_type": "execute_result"
    }
   ],
   "source": [
    "import pandas as pd\n",
    "import numpy as np\n",
    "\n",
    "# Create two DataFrames\n",
    "df1 = pd.DataFrame({'A': [1, np.nan], 'B': [\"t\", 4]})\n",
    "df2 = pd.DataFrame({'A': [5, 6], 'B': [7, 8]})\n",
    "\n",
    "# Append df2 to df1 (along rows)\n",
    "result = df1.append(df2, ignore_index=True)\n",
    "\n",
    "print(result)\n",
    "r=result.count()\n",
    "r"
   ]
  },
  {
   "cell_type": "code",
   "execution_count": 24,
   "id": "3f8d3d88",
   "metadata": {},
   "outputs": [
    {
     "data": {
      "text/html": [
       "<div>\n",
       "<style scoped>\n",
       "    .dataframe tbody tr th:only-of-type {\n",
       "        vertical-align: middle;\n",
       "    }\n",
       "\n",
       "    .dataframe tbody tr th {\n",
       "        vertical-align: top;\n",
       "    }\n",
       "\n",
       "    .dataframe thead th {\n",
       "        text-align: right;\n",
       "    }\n",
       "</style>\n",
       "<table border=\"1\" class=\"dataframe\">\n",
       "  <thead>\n",
       "    <tr style=\"text-align: right;\">\n",
       "      <th></th>\n",
       "      <th>A</th>\n",
       "      <th>B</th>\n",
       "      <th>C</th>\n",
       "    </tr>\n",
       "  </thead>\n",
       "  <tbody>\n",
       "    <tr>\n",
       "      <th>0</th>\n",
       "      <td>1</td>\n",
       "      <td>3</td>\n",
       "      <td>5</td>\n",
       "    </tr>\n",
       "    <tr>\n",
       "      <th>1</th>\n",
       "      <td>2</td>\n",
       "      <td>4</td>\n",
       "      <td>6</td>\n",
       "    </tr>\n",
       "  </tbody>\n",
       "</table>\n",
       "</div>"
      ],
      "text/plain": [
       "   A  B  C\n",
       "0  1  3  5\n",
       "1  2  4  6"
      ]
     },
     "execution_count": 24,
     "metadata": {},
     "output_type": "execute_result"
    }
   ],
   "source": [
    "# Create two DataFrames\n",
    "df1 = pd.DataFrame({'A': [1, 2], 'B': [3, 4]})\n",
    "df2 = pd.DataFrame({'C': [5, 6]})\n",
    "\n",
    "# Append df2 to df1 (along columns)\n",
    "result = pd.concat([df1, df2], axis=1)\n",
    "\n",
    "result"
   ]
  },
  {
   "cell_type": "code",
   "execution_count": 28,
   "id": "5fc5c27e",
   "metadata": {},
   "outputs": [],
   "source": [
    "del result['A']"
   ]
  },
  {
   "cell_type": "code",
   "execution_count": 29,
   "id": "fd0379cc",
   "metadata": {},
   "outputs": [
    {
     "data": {
      "text/html": [
       "<div>\n",
       "<style scoped>\n",
       "    .dataframe tbody tr th:only-of-type {\n",
       "        vertical-align: middle;\n",
       "    }\n",
       "\n",
       "    .dataframe tbody tr th {\n",
       "        vertical-align: top;\n",
       "    }\n",
       "\n",
       "    .dataframe thead th {\n",
       "        text-align: right;\n",
       "    }\n",
       "</style>\n",
       "<table border=\"1\" class=\"dataframe\">\n",
       "  <thead>\n",
       "    <tr style=\"text-align: right;\">\n",
       "      <th></th>\n",
       "      <th>B</th>\n",
       "      <th>C</th>\n",
       "    </tr>\n",
       "  </thead>\n",
       "  <tbody>\n",
       "    <tr>\n",
       "      <th>0</th>\n",
       "      <td>3</td>\n",
       "      <td>5</td>\n",
       "    </tr>\n",
       "    <tr>\n",
       "      <th>1</th>\n",
       "      <td>4</td>\n",
       "      <td>6</td>\n",
       "    </tr>\n",
       "  </tbody>\n",
       "</table>\n",
       "</div>"
      ],
      "text/plain": [
       "   B  C\n",
       "0  3  5\n",
       "1  4  6"
      ]
     },
     "execution_count": 29,
     "metadata": {},
     "output_type": "execute_result"
    }
   ],
   "source": [
    "result"
   ]
  },
  {
   "cell_type": "code",
   "execution_count": 32,
   "id": "bf41731b",
   "metadata": {},
   "outputs": [
    {
     "name": "stdout",
     "output_type": "stream",
     "text": [
      "     A    B    C    D\n",
      "0  1.0  3.0  NaN  NaN\n",
      "1  2.0  4.0  NaN  NaN\n",
      "2  NaN  NaN  5.0  7.0\n",
      "3  NaN  NaN  6.0  8.0\n"
     ]
    },
    {
     "name": "stderr",
     "output_type": "stream",
     "text": [
      "C:\\Users\\D\\AppData\\Local\\Temp\\ipykernel_2696\\2835651854.py:8: FutureWarning: The frame.append method is deprecated and will be removed from pandas in a future version. Use pandas.concat instead.\n",
      "  result = df1.append(df2, ignore_index=True, sort=False)\n"
     ]
    }
   ],
   "source": [
    "#Append with Different Columns:\n",
    "\n",
    "# Create two DataFrames with different columns\n",
    "df1 = pd.DataFrame({'A': [1, 2], 'B': [3, 4]})\n",
    "df2 = pd.DataFrame({'C': [5, 6], 'D': [7, 8]})\n",
    "\n",
    "# Append df2 to df1, fill missing values with NaN\n",
    "result = df1.append(df2, ignore_index=True, sort=False)\n",
    "\n",
    "print(result)\n"
   ]
  },
  {
   "cell_type": "markdown",
   "id": "37dff799",
   "metadata": {},
   "source": [
    "# update"
   ]
  },
  {
   "cell_type": "code",
   "execution_count": 39,
   "id": "f110c673",
   "metadata": {},
   "outputs": [
    {
     "name": "stdout",
     "output_type": "stream",
     "text": [
      "Original DataFrame:\n",
      "      Name  Age           City\n",
      "0    Alice   25       New York\n",
      "1      Bob   30  San Francisco\n",
      "2  Charlie   35    Los Angeles\n",
      "\n",
      "DataFrame after updating the 'Bob' row:\n",
      "      Name  Age         City\n",
      "0    Alice   25     New York\n",
      "1      Bob   31      Seattle\n",
      "2  Charlie   35  Los Angeles\n"
     ]
    }
   ],
   "source": [
    "import pandas as pd\n",
    "\n",
    "# Create a DataFrame\n",
    "df = pd.DataFrame({\n",
    "    'Name': ['Alice', 'Bob', 'Charlie'],\n",
    "    'Age': [25, 30, 35],\n",
    "    'City': ['New York', 'San Francisco', 'Los Angeles']\n",
    "})\n",
    "\n",
    "print(\"Original DataFrame:\")\n",
    "print(df)\n",
    "\n",
    "# Update the 'Age' and 'City' values for the row where 'Name' is 'Bob'\n",
    "df.loc[df['Name'] == 'Bob', ['Age', 'City']] = [31, 'Seattle']\n",
    "\n",
    "print(\"\\nDataFrame after updating the 'Bob' row:\")\n",
    "print(df)\n"
   ]
  },
  {
   "cell_type": "code",
   "execution_count": 41,
   "id": "bc24b172",
   "metadata": {},
   "outputs": [
    {
     "name": "stdout",
     "output_type": "stream",
     "text": [
      "Original DataFrame:\n",
      "   A  B\n",
      "0  1  4\n",
      "1  2  5\n",
      "2  3  6\n",
      "\n",
      "DataFrame after inserting a row at index 2\n",
      "    A   B\n",
      "0   1   4\n",
      "1   2   5\n",
      "2  10  11\n"
     ]
    }
   ],
   "source": [
    "import pandas as pd\n",
    "\n",
    "# Create a DataFrame\n",
    "df = pd.DataFrame({'A': [1, 2, 3], 'B': [4, 5, 6]})\n",
    "\n",
    "print(\"Original DataFrame:\")\n",
    "print(df)\n",
    "\n",
    "# New row data\n",
    "new_row_data = {'A': 10, 'B': 11}\n",
    "\n",
    "# Index where you want to insert the new row\n",
    "insert_index = 2\n",
    "\n",
    "# Use the loc indexer to insert the new row at the specified index\n",
    "df.loc[insert_index] = new_row_data\n",
    "\n",
    "print(\"\\nDataFrame after inserting a row at index\", insert_index)\n",
    "print(df)\n"
   ]
  },
  {
   "cell_type": "code",
   "execution_count": 43,
   "id": "e14d9218",
   "metadata": {},
   "outputs": [
    {
     "name": "stdout",
     "output_type": "stream",
     "text": [
      "Original DataFrame:\n",
      "   A  B\n",
      "0  1  4\n",
      "1  2  5\n",
      "2  3  6\n",
      "\n",
      "DataFrame after inserting a row at index 2\n",
      "    A   B\n",
      "0   1   4\n",
      "1   2   5\n",
      "2  10  11\n",
      "3   3   6\n"
     ]
    },
    {
     "name": "stderr",
     "output_type": "stream",
     "text": [
      "C:\\Users\\D\\AppData\\Local\\Temp\\ipykernel_2696\\4184759670.py:19: FutureWarning: The frame.append method is deprecated and will be removed from pandas in a future version. Use pandas.concat instead.\n",
      "  df = df.iloc[:insert_index].append(new_row_df, ignore_index=True).append(df.iloc[insert_index:], ignore_index=True)\n"
     ]
    }
   ],
   "source": [
    "import pandas as pd\n",
    "\n",
    "# Create a DataFrame\n",
    "df = pd.DataFrame({'A': [1, 2, 3], 'B': [4, 5, 6]})\n",
    "\n",
    "print(\"Original DataFrame:\")\n",
    "print(df)\n",
    "\n",
    "# New row data\n",
    "new_row_data = {'A': 10, 'B': 11}\n",
    "\n",
    "# Index where you want to insert the new row\n",
    "insert_index = 2\n",
    "\n",
    "# Create a DataFrame with the new row\n",
    "new_row_df = pd.DataFrame([new_row_data])\n",
    "\n",
    "# Use append to combine DataFrames above and below the insertion index\n",
    "df = df.iloc[:insert_index].append(new_row_df, ignore_index=True).append(df.iloc[insert_index:], ignore_index=True)\n",
    "\n",
    "print(\"\\nDataFrame after inserting a row at index\", insert_index)\n",
    "print(df)\n"
   ]
  },
  {
   "cell_type": "markdown",
   "id": "09840008",
   "metadata": {},
   "source": [
    " # cut"
   ]
  },
  {
   "cell_type": "code",
   "execution_count": 47,
   "id": "49f7443f",
   "metadata": {},
   "outputs": [
    {
     "name": "stdout",
     "output_type": "stream",
     "text": [
      "   Age Age_Category\n",
      "0   25        Young\n",
      "1   35  Middle-aged\n",
      "2   45  Middle-aged\n",
      "3   55  Middle-aged\n",
      "4   65       Senior\n",
      "5   75       Senior\n",
      "6   85       Senior\n"
     ]
    }
   ],
   "source": [
    "# Create a DataFrame with a numerical column\n",
    "df = pd.DataFrame({'Age': [25, 35, 45, 55, 65, 75, 85]})\n",
    "\n",
    "# Define bin edges and labels\n",
    "bin_edges = [0, 30, 60, 90]\n",
    "bin_labels = ['Young', 'Middle-aged', 'Senior']\n",
    "\n",
    "# Apply cut() to create a new categorical column\n",
    "df['Age_Category'] = pd.cut(df['Age'], bins=bin_edges, labels=bin_labels)\n",
    "\n",
    "print(df)\n"
   ]
  },
  {
   "cell_type": "markdown",
   "id": "15f7d360",
   "metadata": {},
   "source": [
    "# groupby"
   ]
  },
  {
   "cell_type": "code",
   "execution_count": 48,
   "id": "f332e75e",
   "metadata": {},
   "outputs": [
    {
     "name": "stdout",
     "output_type": "stream",
     "text": [
      "Original DataFrame:\n",
      "  Category  Value\n",
      "0        A     10\n",
      "1        B     15\n",
      "2        A     20\n",
      "3        B     25\n",
      "4        A     30\n",
      "5        B     35\n",
      "\n",
      "Grouped by 'Category' and Mean Values:\n",
      "          Value\n",
      "Category       \n",
      "A          20.0\n",
      "B          25.0\n"
     ]
    }
   ],
   "source": [
    "data = {\n",
    "    'Category': ['A', 'B', 'A', 'B', 'A', 'B'],\n",
    "    'Value': [10, 15, 20, 25, 30, 35]\n",
    "}\n",
    "\n",
    "df = pd.DataFrame(data)\n",
    "\n",
    "# Group by the 'Category' column\n",
    "grouped = df.groupby('Category')\n",
    "\n",
    "# Calculate the mean for each group\n",
    "mean_values = grouped.mean()\n",
    "\n",
    "print(\"Original DataFrame:\")\n",
    "print(df)\n",
    "\n",
    "print(\"\\nGrouped by 'Category' and Mean Values:\")\n",
    "print(mean_values)\n"
   ]
  },
  {
   "cell_type": "code",
   "execution_count": 51,
   "id": "8ff2dce7",
   "metadata": {},
   "outputs": [
    {
     "data": {
      "image/png": "[encoded data removed]",
      "text/plain": [
       "<Figure size 640x480 with 2 Axes>"
      ]
     },
     "metadata": {},
     "output_type": "display_data"
    }
   ],
   "source": [
    "info = pd.DataFrame({  \n",
    "'length': [2, 1.7, 3.6, 2.4, 1],  \n",
    "'width': [4.2, 2.6, 1.6, 5.1, 2.9]  \n",
    "})  \n",
    "hist = info.hist(bins=3)  "
   ]
  },
  {
   "cell_type": "markdown",
   "id": "e1810a1f",
   "metadata": {},
   "source": [
    "# melt"
   ]
  },
  {
   "cell_type": "code",
   "execution_count": 52,
   "id": "01e95c6e",
   "metadata": {},
   "outputs": [
    {
     "name": "stdout",
     "output_type": "stream",
     "text": [
      "Original DataFrame (Wide Format):\n",
      "   ID     Name  Math  English  Science\n",
      "0   1    Alice    90       88       78\n",
      "1   2      Bob    85       89       92\n",
      "2   3  Charlie    92       95       88\n",
      "\n",
      "Transformed DataFrame (Long Format):\n",
      "   ID     Name  Subject  Score\n",
      "0   1    Alice     Math     90\n",
      "1   2      Bob     Math     85\n",
      "2   3  Charlie     Math     92\n",
      "3   1    Alice  English     88\n",
      "4   2      Bob  English     89\n",
      "5   3  Charlie  English     95\n",
      "6   1    Alice  Science     78\n",
      "7   2      Bob  Science     92\n",
      "8   3  Charlie  Science     88\n"
     ]
    }
   ],
   "source": [
    "import pandas as pd\n",
    "\n",
    "# Create a DataFrame in wide format\n",
    "wide_df = pd.DataFrame({\n",
    "    'ID': [1, 2, 3],\n",
    "    'Name': ['Alice', 'Bob', 'Charlie'],\n",
    "    'Math': [90, 85, 92],\n",
    "    'English': [88, 89, 95],\n",
    "    'Science': [78, 92, 88]\n",
    "})\n",
    "\n",
    "print(\"Original DataFrame (Wide Format):\")\n",
    "print(wide_df)\n",
    "\n",
    "# Use melt() to transform into long format\n",
    "long_df = pd.melt(wide_df, id_vars=['ID', 'Name'], var_name='Subject', value_name='Score')\n",
    "\n",
    "print(\"\\nTransformed DataFrame (Long Format):\")\n",
    "print(long_df)\n"
   ]
  },
  {
   "cell_type": "markdown",
   "id": "c55c9d64",
   "metadata": {},
   "source": [
    "# query()"
   ]
  },
  {
   "cell_type": "code",
   "execution_count": 53,
   "id": "6343fd5d",
   "metadata": {},
   "outputs": [
    {
     "name": "stdout",
     "output_type": "stream",
     "text": [
      "Original DataFrame:\n",
      "   ID     Name  Age  Salary\n",
      "0   1    Alice   25   50000\n",
      "1   2      Bob   30   60000\n",
      "2   3  Charlie   35   70000\n",
      "3   4    David   40   80000\n",
      "4   5      Eva   45   90000\n",
      "\n",
      "Filtered DataFrame:\n",
      "   ID   Name  Age  Salary\n",
      "3   4  David   40   80000\n",
      "4   5    Eva   45   90000\n"
     ]
    }
   ],
   "source": [
    "# Create a DataFrame\n",
    "df = pd.DataFrame({\n",
    "    'ID': [1, 2, 3, 4, 5],\n",
    "    'Name': ['Alice', 'Bob', 'Charlie', 'David', 'Eva'],\n",
    "    'Age': [25, 30, 35, 40, 45],\n",
    "    'Salary': [50000, 60000, 70000, 80000, 90000]\n",
    "})\n",
    "\n",
    "# Use query() to filter rows based on a condition\n",
    "filtered_df = df.query('Age > 30 and Salary > 70000')\n",
    "\n",
    "print(\"Original DataFrame:\")\n",
    "print(df)\n",
    "\n",
    "print(\"\\nFiltered DataFrame:\")\n",
    "print(filtered_df)\n"
   ]
  },
  {
   "cell_type": "markdown",
   "id": "81e7091c",
   "metadata": {},
   "source": [
    "# rename()"
   ]
  },
  {
   "cell_type": "code",
   "execution_count": 54,
   "id": "988f7722",
   "metadata": {},
   "outputs": [
    {
     "name": "stdout",
     "output_type": "stream",
     "text": [
      "Original DataFrame:\n",
      "   A  B\n",
      "0  1  4\n",
      "1  2  5\n",
      "2  3  6\n",
      "\n",
      "DataFrame after renaming columns:\n",
      "   X  Y\n",
      "0  1  4\n",
      "1  2  5\n",
      "2  3  6\n"
     ]
    }
   ],
   "source": [
    "import pandas as pd\n",
    "\n",
    "# Create a DataFrame\n",
    "data = {'A': [1, 2, 3], 'B': [4, 5, 6]}\n",
    "df = pd.DataFrame(data)\n",
    "\n",
    "print(\"Original DataFrame:\")\n",
    "print(df)\n",
    "\n",
    "# Rename columns using a dictionary\n",
    "df.rename(columns={'A': 'X', 'B': 'Y'}, inplace=True)\n",
    "\n",
    "print(\"\\nDataFrame after renaming columns:\")\n",
    "print(df)\n"
   ]
  },
  {
   "cell_type": "markdown",
   "id": "0a6f8e3f",
   "metadata": {},
   "source": [
    "# Dataframe.sample()"
   ]
  },
  {
   "cell_type": "code",
   "execution_count": 55,
   "id": "7ea76e57",
   "metadata": {},
   "outputs": [
    {
     "data": {
      "text/html": [
       "<div>\n",
       "<style scoped>\n",
       "    .dataframe tbody tr th:only-of-type {\n",
       "        vertical-align: middle;\n",
       "    }\n",
       "\n",
       "    .dataframe tbody tr th {\n",
       "        vertical-align: top;\n",
       "    }\n",
       "\n",
       "    .dataframe thead th {\n",
       "        text-align: right;\n",
       "    }\n",
       "</style>\n",
       "<table border=\"1\" class=\"dataframe\">\n",
       "  <thead>\n",
       "    <tr style=\"text-align: right;\">\n",
       "      <th></th>\n",
       "      <th>data1</th>\n",
       "      <th>data2</th>\n",
       "      <th>data3</th>\n",
       "    </tr>\n",
       "  </thead>\n",
       "  <tbody>\n",
       "    <tr>\n",
       "      <th>John</th>\n",
       "      <td>2</td>\n",
       "      <td>2</td>\n",
       "      <td>10</td>\n",
       "    </tr>\n",
       "    <tr>\n",
       "      <th>William</th>\n",
       "      <td>0</td>\n",
       "      <td>0</td>\n",
       "      <td>8</td>\n",
       "    </tr>\n",
       "  </tbody>\n",
       "</table>\n",
       "</div>"
      ],
      "text/plain": [
       "         data1  data2  data3\n",
       "John         2      2     10\n",
       "William      0      0      8"
      ]
     },
     "execution_count": 55,
     "metadata": {},
     "output_type": "execute_result"
    }
   ],
   "source": [
    "info = pd.DataFrame({'data1': [2, 4, 8, 0],  \n",
    "'data2': [2, 0, 0, 0],  \n",
    "'data3': [10, 2, 1, 8]},  \n",
    "index=['John', 'Parker', 'Smith', 'William'])  \n",
    "info  \n",
    "info['data1'].sample(n=3, random_state=1)  \n",
    "info.sample(frac=0.5, replace=True, random_state=1)  \n",
    "info.sample(n=2, weights='data3', random_state=1)  \n"
   ]
  },
  {
   "cell_type": "markdown",
   "id": "b6d2d021",
   "metadata": {},
   "source": [
    "# sift()"
   ]
  },
  {
   "cell_type": "code",
   "execution_count": 56,
   "id": "51ef12e0",
   "metadata": {},
   "outputs": [
    {
     "name": "stdout",
     "output_type": "stream",
     "text": [
      "Original DataFrame:\n",
      "   A\n",
      "0  1\n",
      "1  2\n",
      "2  3\n",
      "3  4\n",
      "4  5\n",
      "\n",
      "DataFrame after shifting column 'A':\n",
      "   A  A_shifted\n",
      "0  1        NaN\n",
      "1  2        1.0\n",
      "2  3        2.0\n",
      "3  4        3.0\n",
      "4  5        4.0\n"
     ]
    }
   ],
   "source": [
    "import pandas as pd\n",
    "\n",
    "# Create a DataFrame\n",
    "data = {'A': [1, 2, 3, 4, 5]}\n",
    "df = pd.DataFrame(data)\n",
    "\n",
    "print(\"Original DataFrame:\")\n",
    "print(df)\n",
    "\n",
    "# Shift values in column 'A' by 1 position\n",
    "df['A_shifted'] = df['A'].shift(1)\n",
    "\n",
    "print(\"\\nDataFrame after shifting column 'A':\")\n",
    "print(df)\n"
   ]
  },
  {
   "cell_type": "markdown",
   "id": "29c8d241",
   "metadata": {},
   "source": [
    "# transform"
   ]
  },
  {
   "cell_type": "code",
   "execution_count": 59,
   "id": "4951d17f",
   "metadata": {},
   "outputs": [
    {
     "name": "stdout",
     "output_type": "stream",
     "text": [
      "Original DataFrame:\n",
      "   A  B  C\n",
      "0  1  2  3\n",
      "1  4  5  6\n",
      "2  7  8  9\n",
      "\n",
      "DataFrame after adding 10 to each element:\n",
      "    A   B   C\n",
      "0  11  12  13\n",
      "1  14  15  16\n",
      "2  17  18  19\n"
     ]
    }
   ],
   "source": [
    "import pandas as pd\n",
    "import numpy as np\n",
    "\n",
    "# Create a NumPy matrix\n",
    "matrix = np.array([[1, 2, 3],\n",
    "                   [4, 5, 6],\n",
    "                   [7, 8, 9]])\n",
    "\n",
    "# Convert the matrix to a DataFrame\n",
    "df = pd.DataFrame(matrix, columns=['A', 'B', 'C'])\n",
    "\n",
    "print(\"Original DataFrame:\")\n",
    "print(df)\n",
    "\n",
    "# Use transform() to add 10 to each element\n",
    "df_transformed = df.transform(lambda x: x + 10)\n",
    "\n",
    "print(\"\\nDataFrame after adding 10 to each element:\")\n",
    "print(df_transformed)\n"
   ]
  },
  {
   "cell_type": "markdown",
   "id": "0ee8e480",
   "metadata": {},
   "source": [
    "# transpose"
   ]
  },
  {
   "cell_type": "code",
   "execution_count": 60,
   "id": "4cf27e0b",
   "metadata": {},
   "outputs": [
    {
     "name": "stdout",
     "output_type": "stream",
     "text": [
      "Original DataFrame:\n",
      "      Name  Age  Salary\n",
      "0    Alice   25   50000\n",
      "1      Bob   30   60000\n",
      "2  Charlie   35   70000\n",
      "\n",
      "Transposed DataFrame using .T:\n",
      "            0      1        2\n",
      "Name    Alice    Bob  Charlie\n",
      "Age        25     30       35\n",
      "Salary  50000  60000    70000\n",
      "\n",
      "Transposed DataFrame using transpose():\n",
      "            0      1        2\n",
      "Name    Alice    Bob  Charlie\n",
      "Age        25     30       35\n",
      "Salary  50000  60000    70000\n"
     ]
    }
   ],
   "source": [
    "import pandas as pd\n",
    "\n",
    "# Create a DataFrame\n",
    "data = {'Name': ['Alice', 'Bob', 'Charlie'],\n",
    "        'Age': [25, 30, 35],\n",
    "        'Salary': [50000, 60000, 70000]}\n",
    "\n",
    "df = pd.DataFrame(data)\n",
    "\n",
    "print(\"Original DataFrame:\")\n",
    "print(df)\n",
    "\n",
    "# Transpose the DataFrame using .T attribute\n",
    "transposed_df_t = df.T\n",
    "\n",
    "print(\"\\nTransposed DataFrame using .T:\")\n",
    "print(transposed_df_t)\n",
    "\n",
    "# Transpose the DataFrame using transpose() method\n",
    "transposed_df_method = df.transpose()\n",
    "\n",
    "print(\"\\nTransposed DataFrame using transpose():\")\n",
    "print(transposed_df_method)\n"
   ]
  },
  {
   "cell_type": "markdown",
   "id": "9f21eb48",
   "metadata": {},
   "source": [
    "# where"
   ]
  },
  {
   "cell_type": "code",
   "execution_count": 61,
   "id": "a39a7813",
   "metadata": {},
   "outputs": [
    {
     "name": "stdout",
     "output_type": "stream",
     "text": [
      "Original DataFrame:\n",
      "      Name  Age  Salary\n",
      "0    Alice   25   50000\n",
      "1      Bob   30   60000\n",
      "2  Charlie   35   70000\n",
      "\n",
      "DataFrame after applying where() condition:\n",
      "      Name   Age   Salary\n",
      "0      NaN   NaN      NaN\n",
      "1      Bob  30.0  60000.0\n",
      "2  Charlie  35.0  70000.0\n"
     ]
    }
   ],
   "source": [
    "import pandas as pd\n",
    "import numpy as np\n",
    "\n",
    "# Create a DataFrame\n",
    "data = {'Name': ['Alice', 'Bob', 'Charlie'],\n",
    "        'Age': [25, 30, 35],\n",
    "        'Salary': [50000, 60000, 70000]}\n",
    "\n",
    "df = pd.DataFrame(data)\n",
    "\n",
    "print(\"Original DataFrame:\")\n",
    "print(df)\n",
    "\n",
    "# Use where() to replace values where Age is less than 30 with NaN\n",
    "df_filtered = df.where(df['Age'] >= 30)\n",
    "\n",
    "print(\"\\nDataFrame after applying where() condition:\")\n",
    "print(df_filtered)\n"
   ]
  },
  {
   "cell_type": "markdown",
   "id": "90d0f2d7",
   "metadata": {},
   "source": [
    "# loc"
   ]
  },
  {
   "cell_type": "code",
   "execution_count": 62,
   "id": "2f55f958",
   "metadata": {},
   "outputs": [],
   "source": [
    "import pandas as pd\n",
    "\n",
    "df = pd.DataFrame({'A': [1, 2, 3], 'B': [4, 5, 6]}, index=['row1', 'row2', 'row3'])\n",
    "\n",
    "# Access a specific element using loc\n",
    "value = df.loc['row2', 'A']\n",
    "\n",
    "# Slice rows and columns using loc\n",
    "subset = df.loc['row1':'row2', 'A']\n"
   ]
  },
  {
   "cell_type": "code",
   "execution_count": 64,
   "id": "fefa8de9",
   "metadata": {},
   "outputs": [
    {
     "name": "stdout",
     "output_type": "stream",
     "text": [
      "2\n",
      "(:-\n",
      "row1    1\n",
      "row2    2\n",
      "Name: A, dtype: int64\n"
     ]
    }
   ],
   "source": [
    "print(value)\n",
    "\n",
    "print(\"(:-\")\n",
    "print(subset)"
   ]
  },
  {
   "cell_type": "markdown",
   "id": "80897915",
   "metadata": {},
   "source": [
    "# iloc"
   ]
  },
  {
   "cell_type": "code",
   "execution_count": 66,
   "id": "6b62e862",
   "metadata": {},
   "outputs": [],
   "source": [
    "df = pd.DataFrame({'A': [1, 2, 3], 'B': [4, 5, 6]})\n",
    "\n",
    "# Access a specific element using iloc\n",
    "value = df.iloc[1, 0]\n",
    "\n",
    "# Slice rows and columns using iloc\n",
    "subset = df.iloc[0:2, 0]\n"
   ]
  },
  {
   "cell_type": "code",
   "execution_count": 68,
   "id": "40228ef1",
   "metadata": {},
   "outputs": [
    {
     "name": "stdout",
     "output_type": "stream",
     "text": [
      "2\n",
      "(:-\n",
      "0    1\n",
      "1    2\n",
      "Name: A, dtype: int64\n"
     ]
    }
   ],
   "source": [
    "print(value)\n",
    "\n",
    "print(\"(:-\")\n",
    "\n",
    "print(subset)"
   ]
  },
  {
   "cell_type": "markdown",
   "id": "250b1fc5",
   "metadata": {},
   "source": [
    "# series"
   ]
  },
  {
   "cell_type": "code",
   "execution_count": 69,
   "id": "f5d00735",
   "metadata": {},
   "outputs": [
    {
     "name": "stdout",
     "output_type": "stream",
     "text": [
      "0    1\n",
      "1    7\n",
      "2    2\n",
      "dtype: int64\n"
     ]
    }
   ],
   "source": [
    "a = [1, 7, 2]\n",
    "\n",
    "myvar = pd.Series(a)\n",
    "\n",
    "print(myvar)\n"
   ]
  },
  {
   "cell_type": "markdown",
   "id": "d48cc409",
   "metadata": {},
   "source": [
    "# map()"
   ]
  },
  {
   "cell_type": "code",
   "execution_count": 70,
   "id": "077ab67f",
   "metadata": {},
   "outputs": [
    {
     "name": "stdout",
     "output_type": "stream",
     "text": [
      "Original DataFrame:\n",
      "      Name  Age\n",
      "0    Alice   25\n",
      "1      Bob   30\n",
      "2  Charlie   35\n",
      "\n",
      "DataFrame after mapping Age to Age_Group:\n",
      "      Name  Age    Age_Group\n",
      "0    Alice   25        Young\n",
      "1      Bob   30  Middle-aged\n",
      "2  Charlie   35        Adult\n"
     ]
    }
   ],
   "source": [
    "import pandas as pd\n",
    "\n",
    "# Create a DataFrame\n",
    "data = {'Name': ['Alice', 'Bob', 'Charlie'],\n",
    "        'Age': [25, 30, 35]}\n",
    "\n",
    "df = pd.DataFrame(data)\n",
    "\n",
    "print(\"Original DataFrame:\")\n",
    "print(df)\n",
    "\n",
    "# Create a mapping dictionary to map ages to age groups\n",
    "age_groups_mapping = {25: 'Young', 30: 'Middle-aged', 35: 'Adult'}\n",
    "\n",
    "# Use map() to apply the mapping to the 'Age' column\n",
    "df['Age_Group'] = df['Age'].map(age_groups_mapping)\n",
    "\n",
    "print(\"\\nDataFrame after mapping Age to Age_Group:\")\n",
    "print(df)\n"
   ]
  },
  {
   "cell_type": "markdown",
   "id": "8ec2de78",
   "metadata": {},
   "source": [
    "# unique"
   ]
  },
  {
   "cell_type": "code",
   "execution_count": 71,
   "id": "82eaacc1",
   "metadata": {},
   "outputs": [
    {
     "name": "stdout",
     "output_type": "stream",
     "text": [
      "Original Series:\n",
      "0    1\n",
      "1    2\n",
      "2    3\n",
      "3    2\n",
      "4    4\n",
      "5    1\n",
      "6    5\n",
      "7    3\n",
      "dtype: int64\n",
      "\n",
      "Unique Values in the Series:\n",
      "[1 2 3 4 5]\n"
     ]
    }
   ],
   "source": [
    "import pandas as pd\n",
    "\n",
    "# Create a Series with duplicate values\n",
    "data = pd.Series([1, 2, 3, 2, 4, 1, 5, 3])\n",
    "\n",
    "print(\"Original Series:\")\n",
    "print(data)\n",
    "\n",
    "# Use unique() to get unique values\n",
    "unique_values = data.unique()\n",
    "\n",
    "print(\"\\nUnique Values in the Series:\")\n",
    "print(unique_values)\n"
   ]
  },
  {
   "cell_type": "markdown",
   "id": "3caf2526",
   "metadata": {},
   "source": [
    "# Reindexing a Series:\n"
   ]
  },
  {
   "cell_type": "code",
   "execution_count": 72,
   "id": "46d13d5d",
   "metadata": {},
   "outputs": [
    {
     "name": "stdout",
     "output_type": "stream",
     "text": [
      "Original Series:\n",
      "a    1\n",
      "b    2\n",
      "c    3\n",
      "dtype: int64\n",
      "\n",
      "Series after reindexing:\n",
      "a    1.0\n",
      "b    2.0\n",
      "c    3.0\n",
      "d    NaN\n",
      "dtype: float64\n"
     ]
    }
   ],
   "source": [
    "# Create a Series\n",
    "s = pd.Series([1, 2, 3], index=['a', 'b', 'c'])\n",
    "\n",
    "print(\"Original Series:\")\n",
    "print(s)\n",
    "\n",
    "# Reindex the Series with a new index\n",
    "s_reindexed = s.reindex(['a', 'b', 'c', 'd'])\n",
    "\n",
    "print(\"\\nSeries after reindexing:\")\n",
    "print(s_reindexed)\n"
   ]
  },
  {
   "cell_type": "code",
   "execution_count": 73,
   "id": "58e799a1",
   "metadata": {},
   "outputs": [
    {
     "name": "stdout",
     "output_type": "stream",
     "text": [
      "Original DataFrame:\n",
      "      A  B\n",
      "row1  1  4\n",
      "row2  2  5\n",
      "row3  3  6\n",
      "\n",
      "DataFrame after reindexing:\n",
      "        A    B   C\n",
      "row1  1.0  4.0 NaN\n",
      "row2  2.0  5.0 NaN\n",
      "row3  3.0  6.0 NaN\n",
      "row4  NaN  NaN NaN\n"
     ]
    }
   ],
   "source": [
    "import pandas as pd\n",
    "\n",
    "# Create a DataFrame\n",
    "df = pd.DataFrame({'A': [1, 2, 3], 'B': [4, 5, 6]}, index=['row1', 'row2', 'row3'])\n",
    "\n",
    "print(\"Original DataFrame:\")\n",
    "print(df)\n",
    "\n",
    "# Reindex the DataFrame with a new index and columns\n",
    "df_reindexed = df.reindex(index=['row1', 'row2', 'row3', 'row4'], columns=['A', 'B', 'C'])\n",
    "\n",
    "print(\"\\nDataFrame after reindexing:\")\n",
    "print(df_reindexed)\n"
   ]
  },
  {
   "cell_type": "code",
   "execution_count": null,
   "id": "6cdbadec",
   "metadata": {},
   "outputs": [],
   "source": []
  }
 ],
 "metadata": {
  "kernelspec": {
   "display_name": "Python 3 (ipykernel)",
   "language": "python",
   "name": "python3"
  },
  "language_info": {
   "codemirror_mode": {
    "name": "ipython",
    "version": 3
   },
   "file_extension": ".py",
   "mimetype": "text/x-python",
   "name": "python",
   "nbconvert_exporter": "python",
   "pygments_lexer": "ipython3",
   "version": "3.9.13"
  }
 },
 "nbformat": 4,
 "nbformat_minor": 5
}
